{
  "cells": [
    {
      "metadata": {
        "trusted": true
      },
      "cell_type": "code",
      "source": "from keras.preprocessing.image import ImageDataGenerator, array_to_img, img_to_array, load_img\nfrom keras import backend as K\nfrom keras import optimizers",
      "execution_count": 2,
      "outputs": [
        {
          "output_type": "stream",
          "text": "Using TensorFlow backend.\n",
          "name": "stderr"
        }
      ]
    },
    {
      "metadata": {
        "trusted": true
      },
      "cell_type": "code",
      "source": "img_height, img_width = 250, 250\n\nnum_training_samples = 1114 + 1109 #these numbers will change when more data is added: 1114 = number of male training samples, 1113 = num female\nnum_validation_samples = 813\nnum_epochs = 50\n",
      "execution_count": 3,
      "outputs": []
    },
    {
      "metadata": {
        "trusted": true
      },
      "cell_type": "code",
      "source": "# import necessary packages\nfrom keras.preprocessing.image import img_to_array\nfrom keras.models import load_model\nfrom keras.utils import get_file\nimport numpy as np\n\nimport os\n",
      "execution_count": 4,
      "outputs": []
    },
    {
      "metadata": {
        "trusted": true
      },
      "cell_type": "code",
      "source": "if K.image_data_format() == 'channels_first':\n    input_shape = (3, img_width, img_height)\nelse:\n    input_shape = (img_width, img_height, 3)",
      "execution_count": 5,
      "outputs": []
    },
    {
      "metadata": {
        "trusted": true
      },
      "cell_type": "code",
      "source": "from keras.models import Sequential\nfrom keras.layers import Conv2D, MaxPooling2D\nfrom keras.layers import Activation, Dropout, Flatten, Dense",
      "execution_count": 6,
      "outputs": []
    },
    {
      "metadata": {
        "trusted": true
      },
      "cell_type": "code",
      "source": "# download pre-trained model file (one-time download)\ndwnld_link = \"https://github.com/arunponnusamy/cvlib/releases/download/v0.2.0/gender_detection.model\"\nmodel_path = get_file(\"gender_detection.model\", dwnld_link,\n                     cache_subdir=\"pre-trained\", cache_dir=os.getcwd())",
      "execution_count": 7,
      "outputs": [
        {
          "output_type": "stream",
          "text": "Downloading data from https://github.com/arunponnusamy/cvlib/releases/download/v0.2.0/gender_detection.model\n104194048/104188200 [==============================] - 188s 2us/step\n",
          "name": "stdout"
        }
      ]
    },
    {
      "metadata": {
        "trusted": true
      },
      "cell_type": "code",
      "source": "model = Sequential()\n\n#Creating structure of our model\nmodel.add(Conv2D(32, (3,3), input_shape = input_shape)) \nmodel.add(Activation('relu'))\nmodel.add(MaxPooling2D(pool_size = (2,2), dim_ordering=\"th\"))\n\nmodel.add(Conv2D(32, (3,3)))\nmodel.add(Activation('relu'))\nmodel.add(MaxPooling2D(pool_size = (2,2)))\n\nmodel.add(Conv2D(64, (3,3))) \nmodel.add(Activation('relu'))\nmodel.add(MaxPooling2D(pool_size = (2,2)))\n\n# the model so far outputs 3D feature maps (height, width, features)\n\nmodel.add(Flatten()) #converts 3D feature map to 1D feature vector\nmodel.add(Dense(64))\nmodel.add(Activation('relu'))\nmodel.add(Dropout(0.5))\nmodel.add(Dense(1))\nmodel.add(Activation('tanh'))\n\nrmsprop = optimizers.RMSprop(lr=0.0003, rho=0.9, epsilon=1e-08, decay=0.0)\nadam = optimizers.Adam(lr=0.0003, beta_1=0.9, beta_2=0.999, epsilon=1e-08, decay=0.0)\n\nmodel.compile(loss = 'binary_crossentropy', #doing binary classification of gender\n              optimizer=adam,\n              metrics=['accuracy']\n              )",
      "execution_count": 8,
      "outputs": [
        {
          "output_type": "stream",
          "text": "/home/nbuser/anaconda3_501/lib/python3.6/site-packages/ipykernel/__main__.py:6: UserWarning: Update your `MaxPooling2D` call to the Keras 2 API: `MaxPooling2D(pool_size=(2, 2), data_format=\"channels_first\")`\n",
          "name": "stderr"
        }
      ]
    },
    {
      "metadata": {
        "trusted": true
      },
      "cell_type": "code",
      "source": "batch_size = 16",
      "execution_count": 9,
      "outputs": []
    },
    {
      "metadata": {
        "trusted": true
      },
      "cell_type": "code",
      "source": "#configuring augmentations for training set\ntrain_datagen = ImageDataGenerator(\n        rescale=1./255,\n        shear_range=0.2,\n        zoom_range=0.2,\n        horizontal_flip = True\n        )",
      "execution_count": 10,
      "outputs": []
    },
    {
      "metadata": {
        "trusted": true
      },
      "cell_type": "code",
      "source": "#Same but with testing\ntest_datagen = ImageDataGenerator(rescale = 1./255)\n",
      "execution_count": 11,
      "outputs": []
    },
    {
      "metadata": {
        "trusted": true
      },
      "cell_type": "code",
      "source": "from keras.callbacks import ModelCheckpoint\n",
      "execution_count": 12,
      "outputs": []
    },
    {
      "metadata": {
        "trusted": true
      },
      "cell_type": "code",
      "source": "filepath=\"weights.best.hdf5\"\ncheckpoint = ModelCheckpoint(filepath, monitor='val_acc', verbose=1, save_best_only=True, mode='max')\ncallbacks_list = [checkpoint]\n",
      "execution_count": 13,
      "outputs": []
    },
    {
      "metadata": {
        "trusted": true
      },
      "cell_type": "code",
      "source": "# serialize model to JSON\nmodel_json = model.to_json()\nwith open(\"final_model.json\", \"w\") as json_file:\n    json_file.write(model_json)",
      "execution_count": 14,
      "outputs": []
    },
    {
      "metadata": {
        "trusted": true
      },
      "cell_type": "code",
      "source": "print(\"Model saved to json file model.json\")",
      "execution_count": 15,
      "outputs": [
        {
          "output_type": "stream",
          "text": "Model saved to json file model.json\n",
          "name": "stdout"
        }
      ]
    },
    {
      "metadata": {
        "trusted": true
      },
      "cell_type": "code",
      "source": "# save weights to file - to be used later\nmodel.save_weights('final_weights.h5')\n",
      "execution_count": 16,
      "outputs": []
    },
    {
      "metadata": {
        "trusted": true
      },
      "cell_type": "code",
      "source": "print(\"Weights saved to h5 file weights.h5\")",
      "execution_count": 17,
      "outputs": [
        {
          "output_type": "stream",
          "text": "Weights saved to h5 file weights.h5\n",
          "name": "stdout"
        }
      ]
    },
    {
      "metadata": {
        "trusted": true
      },
      "cell_type": "code",
      "source": "pwd",
      "execution_count": 18,
      "outputs": [
        {
          "output_type": "execute_result",
          "execution_count": 18,
          "data": {
            "text/plain": "'/home/nbuser/library'"
          },
          "metadata": {}
        }
      ]
    },
    {
      "metadata": {},
      "cell_type": "markdown",
      "source": "### Models for image classification with weights trained on ImageNet\n* VGG16\n* VGG19\n* ResNet50\n* InceptionV3\n* InceptionResNetV2\n* DenseNet\n* NASNet"
    },
    {
      "metadata": {
        "trusted": true
      },
      "cell_type": "code",
      "source": "",
      "execution_count": null,
      "outputs": []
    }
  ],
  "metadata": {
    "kernelspec": {
      "name": "python36",
      "display_name": "Python 3.6",
      "language": "python"
    },
    "language_info": {
      "mimetype": "text/x-python",
      "nbconvert_exporter": "python",
      "name": "python",
      "pygments_lexer": "ipython3",
      "version": "3.6.6",
      "file_extension": ".py",
      "codemirror_mode": {
        "version": 3,
        "name": "ipython"
      }
    }
  },
  "nbformat": 4,
  "nbformat_minor": 2
}